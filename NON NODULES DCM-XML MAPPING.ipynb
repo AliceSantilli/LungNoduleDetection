{
 "cells": [
  {
   "cell_type": "code",
   "execution_count": null,
   "metadata": {
    "collapsed": true
   },
   "outputs": [],
   "source": [
    "import xml.etree.ElementTree as ET\n",
    "import dicom\n",
    "import matplotlib.pyplot as plt\n",
    "import glob\n",
    "import pickle\n",
    "import numpy as np\n",
    "import sys, os\n",
    "import pylab\n",
    "import time "
   ]
  },
  {
   "cell_type": "code",
   "execution_count": null,
   "metadata": {
    "collapsed": true
   },
   "outputs": [],
   "source": [
    "OVERALL_DICT_NN = pickle.load(open(\"OVERALL_DICT_NN.pkl\", \"rb\"))\n",
    "SERIES_NN = pickle.load(open( \"SERIES_NN.pkl\", \"rb\" ))\n",
    "ALL_DCM = pickle.load(open( \"ALL_DCM_IMAGES.pkl\", \"rb\"))"
   ]
  },
  {
   "cell_type": "code",
   "execution_count": null,
   "metadata": {},
   "outputs": [],
   "source": [
    "REL_IMGS_NN = []\n",
    "CORDS_NN = []\n",
    "tic = time.time()\n",
    "i = 0 \n",
    "for n in range(0,13):\n",
    "    for series in SERIES_NN[n*100:(n*100) + 100]:\n",
    "\n",
    "        print(i)\n",
    "        for image in ALL_DCM:\n",
    "            if series in str(image):\n",
    "                if dicom.read_file(image)[0x08,0x18].value in OVERALL_DICT_NN[series].keys(): \n",
    "                    CORDS_NN.append(OVERALL_DICT_NN[series][dicom.read_file(image)[0x08,0x18].value])\n",
    "                    REL_IMGS_NN.append(image)\n",
    "\n",
    "        i+=1   \n",
    "\n",
    "    toc = time.time()\n",
    "    print(toc - tic)\n",
    "\n",
    "    with open('REL_IMGS_NN'+str(n)+'.pkl','wb') as ri:\n",
    "        pickle.dump(REL_IMGS_NN, ri)\n",
    "    with open('CORDS_NN'+str(n)+'.pkl','wb') as co:\n",
    "        pickle.dump(CORDS_NN, co)"
   ]
  },
  {
   "cell_type": "code",
   "execution_count": null,
   "metadata": {
    "collapsed": true
   },
   "outputs": [],
   "source": []
  }
 ],
 "metadata": {
  "kernelspec": {
   "display_name": "Python 3",
   "language": "python",
   "name": "python3"
  },
  "language_info": {
   "codemirror_mode": {
    "name": "ipython",
    "version": 3
   },
   "file_extension": ".py",
   "mimetype": "text/x-python",
   "name": "python",
   "nbconvert_exporter": "python",
   "pygments_lexer": "ipython3",
   "version": "3.6.3"
  }
 },
 "nbformat": 4,
 "nbformat_minor": 2
}
