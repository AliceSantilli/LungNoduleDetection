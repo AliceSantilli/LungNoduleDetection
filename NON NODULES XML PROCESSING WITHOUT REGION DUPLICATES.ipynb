{
 "cells": [
  {
   "cell_type": "code",
   "execution_count": 2,
   "metadata": {
    "collapsed": true
   },
   "outputs": [],
   "source": [
    "import xml.etree.ElementTree as ET\n",
    "import dicom\n",
    "import matplotlib.pyplot as plt\n",
    "import glob\n",
    "import pickle\n",
    "import numpy as np"
   ]
  },
  {
   "cell_type": "code",
   "execution_count": 9,
   "metadata": {
    "collapsed": true
   },
   "outputs": [],
   "source": [
    "SERIES_NN = []\n",
    "OVERALL_DICT_NN = {}\n",
    "\n",
    "folder1 = glob.glob(\"157/*.xml\")\n",
    "folder2 = glob.glob(\"185/*.xml\")\n",
    "folder3 = glob.glob(\"186/*.xml\")\n",
    "folder4 = glob.glob(\"187/*.xml\")\n",
    "folder5 = glob.glob(\"188/*.xml\")\n",
    "folder6 = glob.glob(\"189/*.xml\")\n",
    "xml_files = folder1+folder2+folder3+folder4+folder5+folder6 \n",
    "for file in xml_files:\n",
    "    tree = ET.parse(file)\n",
    "    root = tree.getroot()\n",
    "    \n",
    "    SERIES_NN.append(root[0][8].text)\n",
    "    ALL_CORD_NN = []\n",
    "    image_names_NN = []\n",
    "    dictionary_NN = {}\n",
    "    z_position = []\n",
    "    flg = 0\n",
    "    for child in root: \n",
    "\n",
    "        if child.tag == '{http://www.nih.gov}readingSession': \n",
    "            \n",
    "            for gc in child:\n",
    "                if gc.tag == '{http://www.nih.gov}nonNodule':  \n",
    "                    coord_NN = []\n",
    "                    for gggc in gc:\n",
    "                        if gggc.tag == '{http://www.nih.gov}imageZposition':\n",
    "                            z = gggc.text\n",
    "                            if z in z_position:\n",
    "                                flg = 0 \n",
    "                                break\n",
    "                            else:\n",
    "                                flg = 1\n",
    "                                z_position.append(z)\n",
    "                                \n",
    "                        if gggc.tag == '{http://www.nih.gov}imageSOP_UID' :\n",
    "                            if flg == 1:\n",
    "                                image_names_NN.append(gggc.text)\n",
    "            \n",
    "                        if gggc.tag == '{http://www.nih.gov}locus' :\n",
    "                            if flg == 1:\n",
    "                                coord_NN.append((int(gggc[0].text),int(gggc[1].text)))\n",
    "                        \n",
    "                    if len(coord_NN)!=0:\n",
    "                        ALL_CORD_NN.append(coord_NN)\n",
    "\n",
    "\n",
    "    for i in range(0,len(ALL_CORD_NN)): \n",
    "        if image_names_NN[i] in dictionary_NN.keys():\n",
    "            dictionary_NN[image_names_NN[i]].append(ALL_CORD_NN[i])\n",
    "        else:\n",
    "            dictionary_NN[image_names_NN[i]] = [ALL_CORD_NN[i]]\n",
    "    if root[0][8].text in OVERALL_DICT_NN.keys():\n",
    "\n",
    "        for k in dictionary_NN:\n",
    "            OVERALL_DICT_NN[root[0][8].text][k] = dictionary_NN[k]\n",
    "    else:\n",
    "        OVERALL_DICT_NN[root[0][8].text] = dictionary_NN"
   ]
  },
  {
   "cell_type": "code",
   "execution_count": 5,
   "metadata": {
    "collapsed": true
   },
   "outputs": [],
   "source": [
    "with open('OVERALL_DICT_NN.pkl','wb') as odN:\n",
    "    pickle.dump(OVERALL_DICT_NN, odN)\n",
    "with open('SERIES_NN.pkl','wb') as sN:\n",
    "    pickle.dump(SERIES_NN, sN)"
   ]
  }
 ],
 "metadata": {
  "kernelspec": {
   "display_name": "Python 3",
   "language": "python",
   "name": "python3"
  },
  "language_info": {
   "codemirror_mode": {
    "name": "ipython",
    "version": 3
   },
   "file_extension": ".py",
   "mimetype": "text/x-python",
   "name": "python",
   "nbconvert_exporter": "python",
   "pygments_lexer": "ipython3",
   "version": "3.6.3"
  }
 },
 "nbformat": 4,
 "nbformat_minor": 2
}
