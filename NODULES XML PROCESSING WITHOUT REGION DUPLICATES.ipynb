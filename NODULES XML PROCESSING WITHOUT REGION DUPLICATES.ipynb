{
 "cells": [
  {
   "cell_type": "markdown",
   "metadata": {},
   "source": [
    "XML parsing of nodules >3 mm and <3 mm using the python XML package. The LIDC-IDRI dataset includes a folder that contains just the xml files. This code is used to parse all the XML files corresponding to all the 1018 patients to extract nodule information. \n",
    "1. A list called SERIES stores the names of all the unique SERIES IDs. \n",
    "2. A dictionary called OVERALL_DICT stores all the SERIES IDs as the keys and the corresponding nodule co-ordinates are the values. Since the same nodule may be marked by more than one radiologist (4 radiologists were involved in the annotation process), duplicates were avoided by checking if the nodule ID was alreayd logged. "
   ]
  },
  {
   "cell_type": "code",
   "execution_count": 1,
   "metadata": {
    "collapsed": true
   },
   "outputs": [],
   "source": [
    "import xml.etree.ElementTree as ET\n",
    "import dicom\n",
    "import matplotlib.pyplot as plt\n",
    "import glob\n",
    "import pickle\n",
    "import numpy as np"
   ]
  },
  {
   "cell_type": "code",
   "execution_count": 63,
   "metadata": {
    "collapsed": true
   },
   "outputs": [],
   "source": [
    "SERIES = []\n",
    "OVERALL_DICT = {}\n",
    "\n",
    "folder1 = glob.glob(\"157/*.xml\")\n",
    "folder2 = glob.glob(\"185/*.xml\")\n",
    "folder3 = glob.glob(\"186/*.xml\")\n",
    "folder4 = glob.glob(\"187/*.xml\")\n",
    "folder5 = glob.glob(\"188/*.xml\")\n",
    "folder6 = glob.glob(\"189/*.xml\")\n",
    "xml_files = folder1+folder2+folder3+folder4+folder5+folder6 \n",
    "\n",
    "for file in xml_files:\n",
    "    tree = ET.parse(file)\n",
    "    root = tree.getroot()\n",
    "\n",
    "    SERIES.append(root[0][8].text)\n",
    "    ALL_CORD = []\n",
    "    image_names = []\n",
    "    dictionary = {}\n",
    "    z_position = []\n",
    "    flg = 1\n",
    "    for child in root: \n",
    "\n",
    "        if child.tag == '{http://www.nih.gov}readingSession' or child.tag =='{http://www.nih.gov/idri}CXRreadingSession': \n",
    "\n",
    "            \n",
    "            for gc in child:\n",
    "\n",
    "                if gc.tag == '{http://www.nih.gov}unblindedReadNodule' or gc.tag =='{http://www.nih.gov/idri}unblindedRead':  #taking only nodules >3mm and <3mm\n",
    "                    \n",
    "                    for ggc in gc:\n",
    "                        if ggc.tag == '{http://www.nih.gov}roi' or ggc.tag == '{http://www.nih.gov/idri}roi':\n",
    "                            coord = []\n",
    "                            for gggc in ggc:\n",
    "                                if gggc.tag == '{http://www.nih.gov}imageZposition' or gggc.tag == '{http://www.nih.gov/idri}imageZposition':\n",
    "                                    z = gggc.text\n",
    "                                    if z in z_position:\n",
    "                                        flg = 0 \n",
    "                                        break\n",
    "                                    else:\n",
    "                                        flg = 1\n",
    "                                        z_position.append(z)\n",
    "                                                  \n",
    "                                if gggc.tag == '{http://www.nih.gov}imageSOP_UID' or gggc.tag == '{http://www.nih.gov/idri}imageSOP_UID':\n",
    "                                    if flg == 1:\n",
    "                                        image_names.append(gggc.text)\n",
    "                            \n",
    "                                                            \n",
    "                                if gggc.tag == '{http://www.nih.gov}edgeMap' or gggc.tag == '{http://www.nih.gov/idri}edgeMap':\n",
    "                                    if flg == 1:\n",
    "                                        coord.append((int(gggc[0].text),int(gggc[1].text)))\n",
    "                        \n",
    "                                \n",
    "\n",
    "                            if len(coord)!=0:\n",
    "                                ALL_CORD.append(coord)\n",
    "\n",
    "    for i in range(0,len(ALL_CORD)): \n",
    "        if image_names[i] in dictionary.keys():\n",
    "            dictionary[image_names[i]].append(ALL_CORD[i])\n",
    "        else:\n",
    "            dictionary[image_names[i]] = [ALL_CORD[i]]\n",
    "    if root[0][8].text in OVERALL_DICT.keys():\n",
    "\n",
    "        for k in dictionary:\n",
    "            OVERALL_DICT[root[0][8].text][k] = dictionary[k]\n",
    "    else:\n",
    "        OVERALL_DICT[root[0][8].text] = dictionary"
   ]
  },
  {
   "cell_type": "code",
   "execution_count": 65,
   "metadata": {
    "collapsed": true
   },
   "outputs": [],
   "source": [
    "with open('OVERALL_DICT.pkl','wb') as od:\n",
    "    pickle.dump(OVERALL_DICT, od)\n",
    "with open('SERIES.pkl','wb') as s:\n",
    "    pickle.dump(SERIES, s)"
   ]
  }
 ],
 "metadata": {
  "kernelspec": {
   "display_name": "Python 3",
   "language": "python",
   "name": "python3"
  },
  "language_info": {
   "codemirror_mode": {
    "name": "ipython",
    "version": 3
   },
   "file_extension": ".py",
   "mimetype": "text/x-python",
   "name": "python",
   "nbconvert_exporter": "python",
   "pygments_lexer": "ipython3",
   "version": "3.6.3"
  }
 },
 "nbformat": 4,
 "nbformat_minor": 2
}
