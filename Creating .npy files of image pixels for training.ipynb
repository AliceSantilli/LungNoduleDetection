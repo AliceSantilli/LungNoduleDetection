{
 "cells": [
  {
   "cell_type": "markdown",
   "metadata": {},
   "source": [
    "From the previous mapping step, around 8000 images and correpsonding nodule co-ordinates are extracted from the pickled files, rescaled and stored as .npy files in two separate folders. "
   ]
  },
  {
   "cell_type": "code",
   "execution_count": null,
   "metadata": {
    "collapsed": true
   },
   "outputs": [],
   "source": [
    "num_images = 1\n",
    "\n",
    "for pickled in range(0,5):\n",
    "    images = pickle.load(open('REL_IMGS'+str(pickled)+'.pkl','rb'))\n",
    "    cords = pickle.load(open('CORDS'+str(pickled)+'.pkl','rb'))\n",
    "\n",
    "    for image in images: \n",
    "        \n",
    "        #original pixels in hounsfield units    \n",
    "        ds = dicom.read_file(image)\n",
    "        pixels = ds.pixel_array\n",
    "\n",
    "        #standardized using mean and std dev\n",
    "        pixels = (pixels - np.mean(pixels))/np.std(pixels)\n",
    "\n",
    "\n",
    "        np.save('YOLO/nodules_unscrewed/image'+str(num_images), pixels)\n",
    "        np.save('YOLO/positions_unscrewed/positions_image'+str(num_images), cords[images.index(image)])\n",
    "        \n",
    "        #Keeping track of number of images\n",
    "        if num_images%1000 ==0:\n",
    "            print('Stored '+str(num_images) + ' Images')\n",
    "\n",
    "        num_images+=1"
   ]
  }
 ],
 "metadata": {
  "kernelspec": {
   "display_name": "Python 3",
   "language": "python",
   "name": "python3"
  },
  "language_info": {
   "codemirror_mode": {
    "name": "ipython",
    "version": 3
   },
   "file_extension": ".py",
   "mimetype": "text/x-python",
   "name": "python",
   "nbconvert_exporter": "python",
   "pygments_lexer": "ipython3",
   "version": "3.6.3"
  }
 },
 "nbformat": 4,
 "nbformat_minor": 2
}
