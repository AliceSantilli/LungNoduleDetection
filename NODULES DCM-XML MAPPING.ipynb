{
 "cells": [
  {
   "cell_type": "markdown",
   "metadata": {},
   "source": [
    "The previous steps in the data organization created a dictionary called OVERAL_DICT that had the SERIES ID as the key and the nodule/non-nodule co-ordinates as the values. Unfortunately, the actual dicom images were not named by the SERIES ID and due to the complicated folder structure that the whole dataset comes in, they had to be tied to the SERIES ID found in the dictionary. \n",
    "\n",
    "Here, a set of lists were created that : \n",
    "1. Contained the actual dicom image path (REL_IMGS) - 13 of them \n",
    "2. A corresponding list containing the annotations (CORDS) - 13 of them "
   ]
  },
  {
   "cell_type": "code",
   "execution_count": null,
   "metadata": {
    "collapsed": true
   },
   "outputs": [],
   "source": [
    "import xml.etree.ElementTree as ET\n",
    "import dicom\n",
    "import matplotlib.pyplot as plt\n",
    "import glob\n",
    "import pickle\n",
    "import numpy as np\n",
    "import sys, os\n",
    "import pylab\n",
    "import time "
   ]
  },
  {
   "cell_type": "code",
   "execution_count": null,
   "metadata": {},
   "outputs": [],
   "source": [
    "ALL_DCM = []\n",
    "lidc_folders = []\n",
    "for patient in range(1,1013):\n",
    "    if patient>0 and patient<10: \n",
    "        mainf = 'LIDC-IDRI-000'+str(patient)\n",
    "    if patient<100 and patient >=10: \n",
    "        mainf = 'LIDC-IDRI-00'+str(patient)\n",
    "    if patient>=100 and patient<1000:\n",
    "        mainf = 'LIDC-IDRI-0'+str(patient)\n",
    "    if patient>=1000 and patient<1013:\n",
    "        mainf = 'LIDC-IDRI-'+str(patient)\n",
    "    lidc_folders.append(mainf)\n",
    "        \n",
    "    lod = [x[0] for x in os.walk(\"DOI/\"+str(mainf))]\n",
    "    for d in lod: \n",
    "        if len(glob.glob(str(d)+\"/*.dcm\"))!=0:\n",
    "            ALL_DCM.extend(glob.glob(str(d)+\"/*.dcm\"))\n",
    "len(ALL_DCM)\n",
    "with open('ALL_DCM_IMAGES.pkl','wb') as adm:\n",
    "    pickle.dump(ALL_DCM, adm)"
   ]
  },
  {
   "cell_type": "code",
   "execution_count": null,
   "metadata": {
    "collapsed": true
   },
   "outputs": [],
   "source": [
    "OVERALL_DICT = pickle.load( open( \"OVERALL_DICT.pkl\", \"rb\" ) )\n",
    "SERIES = pickle.load( open( \"SERIES.pkl\", \"rb\" ))\n",
    "ALL_DCM = pickle.load( open( \"ALL_DCM_IMAGES.pkl\", \"rb\" ))"
   ]
  },
  {
   "cell_type": "code",
   "execution_count": null,
   "metadata": {},
   "outputs": [],
   "source": [
    "REL_IMGS = []\n",
    "CORDS = []\n",
    "tic = time.time()\n",
    "i = 0 \n",
    "for n in range(0,13):\n",
    "    for series in SERIES[n*100:(n*100) + 100]:\n",
    "\n",
    "        print(i)\n",
    "        for image in ALL_DCM:\n",
    "            if series in str(image):\n",
    "                if dicom.read_file(image)[0x08,0x18].value in OVERALL_DICT[series].keys(): \n",
    "                    CORDS.append(OVERALL_DICT[series][dicom.read_file(image)[0x08,0x18].value])\n",
    "                    REL_IMGS.append(image)\n",
    "\n",
    "        i+=1  \n",
    "\n",
    "\n",
    "\n",
    "    toc = time.time()\n",
    "    print(toc - tic)\n",
    "\n",
    "    with open('REL_IMGS'+str(n)+'.pkl','wb') as ri:\n",
    "        pickle.dump(REL_IMGS, ri)\n",
    "    with open('CORDS'++str(n)+'.pkl','wb') as co:\n",
    "        pickle.dump(CORDS, co)"
   ]
  },
  {
   "cell_type": "code",
   "execution_count": null,
   "metadata": {},
   "outputs": [],
   "source": [
    "#Total number of images arranged \n",
    "im = 0 \n",
    "for r in range(0,13):\n",
    "    fn = 'REL_IMGS'+str(r)+'.pkl'\n",
    "    RI = pickle.load(open(fn,'rb'))\n",
    "    print('Total relevant images: ',len(RI))\n",
    "    im +=len(RI)\n",
    "im "
   ]
  },
  {
   "cell_type": "code",
   "execution_count": null,
   "metadata": {
    "collapsed": true
   },
   "outputs": [],
   "source": []
  }
 ],
 "metadata": {
  "kernelspec": {
   "display_name": "Python 3",
   "language": "python",
   "name": "python3"
  },
  "language_info": {
   "codemirror_mode": {
    "name": "ipython",
    "version": 3
   },
   "file_extension": ".py",
   "mimetype": "text/x-python",
   "name": "python",
   "nbconvert_exporter": "python",
   "pygments_lexer": "ipython3",
   "version": "3.6.3"
  }
 },
 "nbformat": 4,
 "nbformat_minor": 2
}
